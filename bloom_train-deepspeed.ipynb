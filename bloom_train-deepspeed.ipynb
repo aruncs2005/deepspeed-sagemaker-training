{
 "cells": [
  {
   "cell_type": "code",
   "execution_count": null,
   "id": "3657b96a",
   "metadata": {},
   "outputs": [],
   "source": [
    "%pip install --upgrade sagemaker\n"
   ]
  },
  {
   "cell_type": "code",
   "execution_count": null,
   "id": "5fd45065",
   "metadata": {},
   "outputs": [],
   "source": [
    "%%time\n",
    "import os\n",
    "\n",
    "import boto3\n",
    "import sagemaker\n",
    "from sagemaker import get_execution_role\n",
    "from sagemaker.huggingface import HuggingFace\n",
    "\n",
    "role = (\n",
    "    get_execution_role()\n",
    ")  # provide a pre-existing role ARN as an alternative to creating a new role\n",
    "print(f\"SageMaker Execution Role: {role}\")\n",
    "\n",
    "client = boto3.client(\"sts\")\n",
    "account = client.get_caller_identity()[\"Account\"]\n",
    "print(f\"AWS account: {account}\")\n",
    "\n",
    "session = boto3.session.Session()\n",
    "region = session.region_name\n",
    "print(f\"AWS region: {region}\")\n",
    "\n",
    "sm_boto_client = boto3.client(\"sagemaker\")\n",
    "sagemaker_session = sagemaker.session.Session(boto_session=session)\n",
    "\n",
    "# get default bucket\n",
    "default_bucket = sagemaker_session.default_bucket()\n",
    "print()\n",
    "print(\"Default bucket for this session: \", default_bucket)"
   ]
  },
  {
   "cell_type": "code",
   "execution_count": null,
   "id": "3c218d0f",
   "metadata": {},
   "outputs": [],
   "source": [
    "s3_train_bucket = \"s3://<path>/train/openweb/bloom/train/\"  # Specify your S3 bucket path for training dataset\n",
    "s3_test_bucket = \"s3://<path>/train/openweb/bloom/val/\"  # Specify your S3 bucket path for test dataset\n",
    "\n"
   ]
  },
  {
   "cell_type": "code",
   "execution_count": null,
   "id": "90006f0b",
   "metadata": {},
   "outputs": [],
   "source": [
    "s3_output_location = f\"s3://{default_bucket}/output/\"\n",
    "print(f\"your output data will be stored in: s3://{default_bucket}/output/\")"
   ]
  },
  {
   "cell_type": "code",
   "execution_count": null,
   "id": "0bb7b7b0",
   "metadata": {},
   "outputs": [],
   "source": [
    "train = sagemaker.inputs.TrainingInput(\n",
    "            s3_train_bucket, distribution=\"FullyReplicated\", s3_data_type=\"S3Prefix\"\n",
    "        )\n",
    "data_channels = {\"train\": train}\n",
    "\n",
    "test = sagemaker.inputs.TrainingInput(\n",
    "        s3_test_bucket, distribution=\"FullyReplicated\", s3_data_type=\"S3Prefix\")\n",
    "data_channels[\"test\"] = test\n",
    "\n",
    "print(data_channels)"
   ]
  },
  {
   "cell_type": "code",
   "execution_count": null,
   "id": "dec30f15",
   "metadata": {},
   "outputs": [],
   "source": [
    "hyperparameters = {\n",
    "    \"num_train_epochs\": 1,\n",
    "    \"seed\": 100,\n",
    "    \"lr_scheduler_type\": \"linear\",\n",
    "    \"num_warmup_steps\": 1,\n",
    "    \"max_train_steps\" : 1000,\n",
    "    \"max_eval_steps\" : 100\n",
    "}"
   ]
  },
  {
   "cell_type": "code",
   "execution_count": null,
   "id": "18f62f52",
   "metadata": {},
   "outputs": [],
   "source": [
    "instance_type = \"ml.p4d.24xlarge\"\n",
    "\n",
    "# for gpt2 30b, you need at least 16 p4d instances\n",
    "# gpt2 xl can be run using a single p4d at the minimum\n",
    "# gpt2 small can be run using a single p3.16 at the minimum\n",
    "instance_count = 1\n",
    "\n",
    "# set to the number of GPUs on that instance\n",
    "processes_per_host = 8"
   ]
  },
  {
   "cell_type": "code",
   "execution_count": null,
   "id": "21e83931",
   "metadata": {},
   "outputs": [],
   "source": [
    "volume_size = 1024"
   ]
  },
  {
   "cell_type": "code",
   "execution_count": null,
   "id": "3754d1ce",
   "metadata": {},
   "outputs": [],
   "source": [
    "from sagemaker.pytorch import PyTorch\n",
    "\n",
    "smp_estimator = PyTorch(\n",
    "    entry_point=\"train_bloom_ds.py\",\n",
    "    source_dir=\"./dscode\",\n",
    "    role=role,\n",
    "    instance_type=instance_type,\n",
    "    volume_size=volume_size,\n",
    "    instance_count=instance_count,\n",
    "    sagemaker_session=sagemaker_session,\n",
    "    distribution={\n",
    "        \"mpi\": {\n",
    "            \"enabled\": True,\n",
    "            \"processes_per_host\": processes_per_host,\n",
    "            \"custom_mpi_options\": \"-verbose --NCCL_DEBUG=INFO\"\n",
    "\n",
    "        }\n",
    "    },\n",
    "    framework_version=\"1.12.0\",\n",
    "    py_version=\"py38\",\n",
    "    output_path=s3_output_location,\n",
    "    hyperparameters=hyperparameters,\n",
    "    debugger_hook_config=False,\n",
    "    disable_profiler=True\n",
    "    \n",
    ")"
   ]
  },
  {
   "cell_type": "code",
   "execution_count": null,
   "id": "dea3baca",
   "metadata": {},
   "outputs": [],
   "source": [
    "smp_estimator.fit(inputs=data_channels, wait=True)"
   ]
  },
  {
   "cell_type": "code",
   "execution_count": null,
   "id": "cc398ef8",
   "metadata": {},
   "outputs": [],
   "source": []
  }
 ],
 "metadata": {
  "kernelspec": {
   "display_name": "conda_pytorch_p39",
   "language": "python",
   "name": "conda_pytorch_p39"
  },
  "language_info": {
   "codemirror_mode": {
    "name": "ipython",
    "version": 3
   },
   "file_extension": ".py",
   "mimetype": "text/x-python",
   "name": "python",
   "nbconvert_exporter": "python",
   "pygments_lexer": "ipython3",
   "version": "3.9.13"
  }
 },
 "nbformat": 4,
 "nbformat_minor": 5
}
